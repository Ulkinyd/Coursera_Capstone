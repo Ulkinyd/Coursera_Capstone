{
    "nbformat_minor": 1, 
    "cells": [
        {
            "source": "# Explore and cluster the neighborhoods in Toronto\n\nimport pandas as pd\nimport numpy as np  ", 
            "cell_type": "code", 
            "metadata": {}, 
            "outputs": [], 
            "execution_count": 1
        }, 
        {
            "source": "link = \"https://en.wikipedia.org/wiki/List_of_postal_codes_of_Canada:_M\"\ndf_toronto = pd.read_html(link, header=0,na_values=['Not assigned'],keep_default_na=False)[0]\nprint('file is ready')", 
            "cell_type": "code", 
            "metadata": {}, 
            "outputs": [
                {
                    "output_type": "stream", 
                    "name": "stdout", 
                    "text": "file is ready\n"
                }
            ], 
            "execution_count": 2
        }, 
        {
            "source": "df_toronto.dropna(subset=['Borough'], inplace=True)\n\ndf_toronto['Neighbourhood'].fillna(df_toronto['Borough'], inplace=True)\n\ndf_index = df_toronto.groupby(['Postcode','Borough']).Neighbourhood.unique().reset_index()\n\ndf_index.shape", 
            "cell_type": "code", 
            "metadata": {}, 
            "outputs": [
                {
                    "output_type": "execute_result", 
                    "data": {
                        "text/plain": "(103, 3)"
                    }, 
                    "execution_count": 3, 
                    "metadata": {}
                }
            ], 
            "execution_count": 3
        }, 
        {
            "source": "", 
            "cell_type": "code", 
            "metadata": {}, 
            "outputs": [], 
            "execution_count": null
        }
    ], 
    "metadata": {
        "kernelspec": {
            "display_name": "Python 3.5", 
            "name": "python3", 
            "language": "python"
        }, 
        "language_info": {
            "mimetype": "text/x-python", 
            "nbconvert_exporter": "python", 
            "version": "3.5.5", 
            "name": "python", 
            "file_extension": ".py", 
            "pygments_lexer": "ipython3", 
            "codemirror_mode": {
                "version": 3, 
                "name": "ipython"
            }
        }
    }, 
    "nbformat": 4
}