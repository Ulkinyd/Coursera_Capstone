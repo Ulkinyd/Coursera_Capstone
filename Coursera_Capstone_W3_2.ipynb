{
    "nbformat_minor": 1, 
    "cells": [
        {
            "execution_count": 1, 
            "cell_type": "code", 
            "source": "# Explore and cluster the neighborhoods in Toronto\n\nimport pandas as pd\nimport numpy as np  ", 
            "outputs": [], 
            "metadata": {}
        }, 
        {
            "execution_count": 2, 
            "cell_type": "code", 
            "source": "link = \"https://en.wikipedia.org/wiki/List_of_postal_codes_of_Canada:_M\"\ndf_toronto = pd.read_html(link, header=0,na_values=['Not assigned'],keep_default_na=False)[0]\nprint('file is ready')", 
            "outputs": [
                {
                    "output_type": "stream", 
                    "name": "stdout", 
                    "text": "file is ready\n"
                }
            ], 
            "metadata": {}
        }, 
        {
            "execution_count": 6, 
            "cell_type": "code", 
            "source": "df_toronto.dropna(subset=['Borough'], inplace=True)\n\ndf_toronto['Neighbourhood'].fillna(df_toronto['Borough'], inplace=True)\n\ndf_post = df_toronto.groupby(['Postcode','Borough']).Neighbourhood.unique().reset_index()\n\ndf_post.shape", 
            "outputs": [
                {
                    "execution_count": 6, 
                    "output_type": "execute_result", 
                    "data": {
                        "text/plain": "(103, 3)"
                    }, 
                    "metadata": {}
                }
            ], 
            "metadata": {}
        }, 
        {
            "execution_count": 10, 
            "cell_type": "code", 
            "source": "df_geo = pd.read_csv('http://cocl.us/Geospatial_data',sep=',')\n\n#df_geo.head()\n", 
            "outputs": [], 
            "metadata": {}
        }, 
        {
            "execution_count": 12, 
            "cell_type": "code", 
            "source": "df_coord = df_post.set_index('Postcode').join(df_geo.set_index('Postal Code')).reset_index()\ndf_coord.head()", 
            "outputs": [
                {
                    "execution_count": 12, 
                    "output_type": "execute_result", 
                    "data": {
                        "text/plain": "  Postcode      Borough                             Neighbourhood   Latitude  \\\n0      M1B  Scarborough                          [Rouge, Malvern]  43.806686   \n1      M1C  Scarborough  [Highland Creek, Rouge Hill, Port Union]  43.784535   \n2      M1E  Scarborough       [Guildwood, Morningside, West Hill]  43.763573   \n3      M1G  Scarborough                                  [Woburn]  43.770992   \n4      M1H  Scarborough                               [Cedarbrae]  43.773136   \n\n   Longitude  \n0 -79.194353  \n1 -79.160497  \n2 -79.188711  \n3 -79.216917  \n4 -79.239476  ", 
                        "text/html": "<div>\n<style scoped>\n    .dataframe tbody tr th:only-of-type {\n        vertical-align: middle;\n    }\n\n    .dataframe tbody tr th {\n        vertical-align: top;\n    }\n\n    .dataframe thead th {\n        text-align: right;\n    }\n</style>\n<table border=\"1\" class=\"dataframe\">\n  <thead>\n    <tr style=\"text-align: right;\">\n      <th></th>\n      <th>Postcode</th>\n      <th>Borough</th>\n      <th>Neighbourhood</th>\n      <th>Latitude</th>\n      <th>Longitude</th>\n    </tr>\n  </thead>\n  <tbody>\n    <tr>\n      <th>0</th>\n      <td>M1B</td>\n      <td>Scarborough</td>\n      <td>[Rouge, Malvern]</td>\n      <td>43.806686</td>\n      <td>-79.194353</td>\n    </tr>\n    <tr>\n      <th>1</th>\n      <td>M1C</td>\n      <td>Scarborough</td>\n      <td>[Highland Creek, Rouge Hill, Port Union]</td>\n      <td>43.784535</td>\n      <td>-79.160497</td>\n    </tr>\n    <tr>\n      <th>2</th>\n      <td>M1E</td>\n      <td>Scarborough</td>\n      <td>[Guildwood, Morningside, West Hill]</td>\n      <td>43.763573</td>\n      <td>-79.188711</td>\n    </tr>\n    <tr>\n      <th>3</th>\n      <td>M1G</td>\n      <td>Scarborough</td>\n      <td>[Woburn]</td>\n      <td>43.770992</td>\n      <td>-79.216917</td>\n    </tr>\n    <tr>\n      <th>4</th>\n      <td>M1H</td>\n      <td>Scarborough</td>\n      <td>[Cedarbrae]</td>\n      <td>43.773136</td>\n      <td>-79.239476</td>\n    </tr>\n  </tbody>\n</table>\n</div>"
                    }, 
                    "metadata": {}
                }
            ], 
            "metadata": {}
        }, 
        {
            "execution_count": null, 
            "cell_type": "code", 
            "source": "", 
            "outputs": [], 
            "metadata": {}
        }
    ], 
    "nbformat": 4, 
    "metadata": {
        "kernelspec": {
            "display_name": "Python 3.5", 
            "name": "python3", 
            "language": "python"
        }, 
        "language_info": {
            "mimetype": "text/x-python", 
            "nbconvert_exporter": "python", 
            "version": "3.5.5", 
            "name": "python", 
            "file_extension": ".py", 
            "pygments_lexer": "ipython3", 
            "codemirror_mode": {
                "version": 3, 
                "name": "ipython"
            }
        }
    }
}